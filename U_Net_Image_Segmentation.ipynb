{
  "nbformat": 4,
  "nbformat_minor": 0,
  "metadata": {
    "colab": {
      "name": "U-Net_Image_Segmentation.ipynb",
      "provenance": [],
      "authorship_tag": "ABX9TyMZYHcc2jnQBxKsxqQr/Gcw",
      "include_colab_link": true
    },
    "kernelspec": {
      "name": "python3",
      "display_name": "Python 3"
    },
    "language_info": {
      "name": "python"
    }
  },
  "cells": [
    {
      "cell_type": "markdown",
      "metadata": {
        "id": "view-in-github",
        "colab_type": "text"
      },
      "source": [
        "<a href=\"https://colab.research.google.com/github/Loga19818eeanvesh/Image_Segmentation/blob/main/U_Net_Image_Segmentation.ipynb\" target=\"_parent\"><img src=\"https://colab.research.google.com/assets/colab-badge.svg\" alt=\"Open In Colab\"/></a>"
      ]
    },
    {
      "cell_type": "code",
      "source": [
        "!pip install tensorflow --upgrade\n",
        "!pip install keras --upgrade"
      ],
      "metadata": {
        "id": "oCQvN-iDtVtt"
      },
      "execution_count": null,
      "outputs": []
    },
    {
      "cell_type": "code",
      "source": [
        "import tensorflow as tf \n",
        "print(tf.__version__)"
      ],
      "metadata": {
        "colab": {
          "base_uri": "https://localhost:8080/"
        },
        "id": "Z9_lyuhytWoS",
        "outputId": "6e4d85f8-a701-4bf7-cb73-e6ef6940e45b"
      },
      "execution_count": 25,
      "outputs": [
        {
          "output_type": "stream",
          "name": "stdout",
          "text": [
            "2.8.0\n"
          ]
        }
      ]
    },
    {
      "cell_type": "code",
      "source": [
        "from tensorflow.keras import Model\n",
        "from tensorflow.keras.layers import Conv2D,MaxPool2D,ReLU,Cropping2D,Concatenate,Conv2DTranspose,Softmax,InputLayer,ZeroPadding2D"
      ],
      "metadata": {
        "id": "q24op8P5W0EW"
      },
      "execution_count": 13,
      "outputs": []
    },
    {
      "cell_type": "code",
      "source": [
        "class ConvBlock(Model):\n",
        "  def __init__(self,noof_filters,padding='same'):\n",
        "    super().__init__()\n",
        "    self.conv1 = Conv2D(filters=noof_filters,kernel_size=3,padding=padding)\n",
        "    self.conv2 = Conv2D(filters=noof_filters,kernel_size=3,padding=padding)\n",
        "    self.relu_activation = ReLU()\n",
        "\n",
        "  def call(self,inputs):\n",
        "    x = self.conv1(inputs)\n",
        "    x = self.relu_activation(x)\n",
        "    x = self.conv2(x)\n",
        "    x = self.relu_activation(x)\n",
        "    return x\n"
      ],
      "metadata": {
        "id": "yjQpeeIIziPw"
      },
      "execution_count": 4,
      "outputs": []
    },
    {
      "cell_type": "code",
      "source": [
        "'''\n",
        "class ExpandingBlock(Model):\n",
        "  def __init__(self,noof_filters,skip_inputs,padding='same'):\n",
        "    super().__init__()\n",
        "    self.skip_inputs=skip_inputs\n",
        "    self.conv1 = Conv2D(filters=noof_filters,kernel_size=3,padding=padding)\n",
        "    self.conv2 = Conv2D(filters=noof_filters,kernel_size=3,padding=padding)\n",
        "    #self.conv_transpose1 = Conv2DTranspose(filters=noof_filters,kernel_size=3,padding=padding)\n",
        "    #self.conv_transpose2 = Conv2DTranspose(filters=noof_filters,kernel_size=3,padding=padding)\n",
        "    #self.crop_layer = Cropping2D()\n",
        "    self.concat = Concatenate()\n",
        "\n",
        "  def call(self,inputs):\n",
        "    x = self.concat([self.skip_inputs,inputs])\n",
        "    x = self.conv1\n",
        "\n",
        "    '''"
      ],
      "metadata": {
        "id": "buQpSLke0425"
      },
      "execution_count": null,
      "outputs": []
    },
    {
      "cell_type": "code",
      "source": [
        "'''def skip_connection(input,x):\n",
        "  h = input.shape[1]\n",
        "  w = input.shape[2]\n",
        "  h1 = x.shape[]'''"
      ],
      "metadata": {
        "id": "2ffEsyGaqpYv"
      },
      "execution_count": null,
      "outputs": []
    },
    {
      "cell_type": "code",
      "source": [
        ""
      ],
      "metadata": {
        "id": "Yg78FcCQkE-3"
      },
      "execution_count": null,
      "outputs": []
    },
    {
      "cell_type": "code",
      "source": [
        "class U_Net(Model):\n",
        "  def __init__(self,input_shape=(None,240,240,3),noof_classes=3,padding='same'):\n",
        "    super().__init__()\n",
        "    self.input_layer = InputLayer(input_shape=input_shape)\n",
        "    self.conv1 = ConvBlock(noof_filters=64)\n",
        "    self.max_pool = MaxPool2D()\n",
        "    self.conv2 = ConvBlock(noof_filters=128)\n",
        "    self.conv3 = ConvBlock(noof_filters=256)\n",
        "    self.conv4 = ConvBlock(noof_filters=512)\n",
        "    self.conv5 = ConvBlock(noof_filters=1024)\n",
        "    self.concat = Concatenate()\n",
        "    #self.padding_layer = ZeroPadding2D(((1,0), (1, 0)))\n",
        "    self.conv_transpose4 = Conv2DTranspose(filters=512,kernel_size=3,strides=2,padding=padding)\n",
        "    self.conv4_2 = ConvBlock(noof_filters=512)\n",
        "    self.conv_transpose3 = Conv2DTranspose(filters=256,kernel_size=3,strides=2,padding=padding)\n",
        "    self.conv3_2 = ConvBlock(noof_filters=256)\n",
        "    self.conv_transpose2 = Conv2DTranspose(filters=128,kernel_size=3,strides=2,padding=padding)\n",
        "    self.conv2_2 = ConvBlock(noof_filters=128)\n",
        "    self.conv_transpose1 = Conv2DTranspose(filters=64,kernel_size=3,strides=2,padding=padding)\n",
        "    self.conv1_1 = ConvBlock(noof_filters=64)\n",
        "  \n",
        "    self.conv_1by1 = Conv2D(filters=noof_classes,kernel_size=1)\n",
        "    self.classifier = Softmax()\n",
        "\n",
        "  def call(self,inputs):\n",
        "    x = self.input_layer(inputs)\n",
        "\n",
        "    x1 = self.conv1(x)\n",
        "\n",
        "    x2 = self.max_pool(x1)\n",
        "    x2 = self.conv2(x2)\n",
        "\n",
        "    x3 = self.max_pool(x2)\n",
        "    x3 = self.conv3(x3)\n",
        "\n",
        "    x4 = self.max_pool(x3)\n",
        "    x4 = self.conv4(x4)\n",
        "\n",
        "    x5 = self.max_pool(x4)\n",
        "    x5 = self.conv5(x5)\n",
        "\n",
        "    #x5 = self.padding_layer(x5)\n",
        "    x4_2 = self.conv_transpose4(x5)\n",
        "    x4_2 = self.concat([x4,x4_2])\n",
        "    x4_2 = self.conv4_2(x4_2)\n",
        "\n",
        "    #x4_2 = self.padding_layer(x4_2)\n",
        "    x3_2 = self.conv_transpose3(x4_2)\n",
        "    x3_2 = self.concat([x3,x3_2])\n",
        "    x3_2 = self.conv3_2(x3_2)\n",
        "\n",
        "    #x3_2 = self.padding_layer(x3_2)\n",
        "    x2_2 = self.conv_transpose2(x3_2)\n",
        "    x2_2 = self.concat([x2,x2_2])\n",
        "    x2_2 = self.conv2_2(x2_2)\n",
        "\n",
        "    #x2_2 = self.padding_layer(x2_2)\n",
        "    x1_2 = self.conv_transpose1(x2_2)\n",
        "    x1_2 = self.concat([x1,x1_2])\n",
        "    x1_2 = self.conv1_1(x1_2)\n",
        "\n",
        "    output = self.conv_1by1(x1_2)\n",
        "    output = self.classifier(output)\n",
        "\n",
        "    return output\n"
      ],
      "metadata": {
        "id": "FnJpdljL3pGu"
      },
      "execution_count": 21,
      "outputs": []
    },
    {
      "cell_type": "code",
      "source": [
        "UNet_model = U_Net()"
      ],
      "metadata": {
        "id": "NpLvB0kehGbp"
      },
      "execution_count": 22,
      "outputs": []
    },
    {
      "cell_type": "code",
      "source": [
        "UNet_model.build(input_shape=(None,240,240,3))\n"
      ],
      "metadata": {
        "id": "Lj9FhQtxhNgI"
      },
      "execution_count": 23,
      "outputs": []
    },
    {
      "cell_type": "code",
      "source": [
        "UNet_model.summary()"
      ],
      "metadata": {
        "colab": {
          "base_uri": "https://localhost:8080/"
        },
        "id": "-GF43nOStN_z",
        "outputId": "8c7c7cc4-82c0-4b8e-ac3f-10b2a19cf484"
      },
      "execution_count": 24,
      "outputs": [
        {
          "output_type": "stream",
          "name": "stdout",
          "text": [
            "Model: \"u__net_4\"\n",
            "_________________________________________________________________\n",
            " Layer (type)                Output Shape              Param #   \n",
            "=================================================================\n",
            " input_6 (InputLayer)        [(None, None, 240, 240,   0         \n",
            "                             3)]                                 \n",
            "                                                                 \n",
            " conv_block_36 (ConvBlock)   multiple                  38720     \n",
            "                                                                 \n",
            " max_pooling2d_4 (MaxPooling  multiple                 0         \n",
            " 2D)                                                             \n",
            "                                                                 \n",
            " conv_block_37 (ConvBlock)   multiple                  221440    \n",
            "                                                                 \n",
            " conv_block_38 (ConvBlock)   multiple                  885248    \n",
            "                                                                 \n",
            " conv_block_39 (ConvBlock)   multiple                  3539968   \n",
            "                                                                 \n",
            " conv_block_40 (ConvBlock)   multiple                  14157824  \n",
            "                                                                 \n",
            " concatenate_4 (Concatenate)  multiple                 0         \n",
            "                                                                 \n",
            " conv2d_transpose_16 (Conv2D  multiple                 4719104   \n",
            " Transpose)                                                      \n",
            "                                                                 \n",
            " conv_block_41 (ConvBlock)   multiple                  7078912   \n",
            "                                                                 \n",
            " conv2d_transpose_17 (Conv2D  multiple                 1179904   \n",
            " Transpose)                                                      \n",
            "                                                                 \n",
            " conv_block_42 (ConvBlock)   multiple                  1769984   \n",
            "                                                                 \n",
            " conv2d_transpose_18 (Conv2D  multiple                 295040    \n",
            " Transpose)                                                      \n",
            "                                                                 \n",
            " conv_block_43 (ConvBlock)   multiple                  442624    \n",
            "                                                                 \n",
            " conv2d_transpose_19 (Conv2D  multiple                 73792     \n",
            " Transpose)                                                      \n",
            "                                                                 \n",
            " conv_block_44 (ConvBlock)   multiple                  110720    \n",
            "                                                                 \n",
            " conv2d_94 (Conv2D)          multiple                  195       \n",
            "                                                                 \n",
            " softmax_4 (Softmax)         multiple                  0         \n",
            "                                                                 \n",
            "=================================================================\n",
            "Total params: 34,513,475\n",
            "Trainable params: 34,513,475\n",
            "Non-trainable params: 0\n",
            "_________________________________________________________________\n"
          ]
        }
      ]
    }
  ]
}